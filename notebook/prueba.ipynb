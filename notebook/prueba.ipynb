{
 "cells": [
  {
   "cell_type": "code",
   "execution_count": 2,
   "metadata": {},
   "outputs": [],
   "source": [
    "import pandas as pd \n",
    "import numpy as np"
   ]
  },
  {
   "cell_type": "code",
   "execution_count": 3,
   "metadata": {},
   "outputs": [],
   "source": [
    "df = pd.DataFrame({\n",
    "    'dia': ['lunes', 'martes', 'miercoles', 'jueves', 'viernes', 'sabado', 'domingo'],\n",
    "    'horario_habitual': ['7-22' for _ in range(7)]\n",
    "})"
   ]
  },
  {
   "cell_type": "code",
   "execution_count": 5,
   "metadata": {},
   "outputs": [],
   "source": [
    "df.to_csv('horarios.csv', index=False)"
   ]
  },
  {
   "cell_type": "code",
   "execution_count": 44,
   "metadata": {},
   "outputs": [],
   "source": [
    "horarios = pd.read_csv('horarios.csv')"
   ]
  },
  {
   "cell_type": "code",
   "execution_count": 45,
   "metadata": {},
   "outputs": [
    {
     "data": {
      "text/html": [
       "<div>\n",
       "<style scoped>\n",
       "    .dataframe tbody tr th:only-of-type {\n",
       "        vertical-align: middle;\n",
       "    }\n",
       "\n",
       "    .dataframe tbody tr th {\n",
       "        vertical-align: top;\n",
       "    }\n",
       "\n",
       "    .dataframe thead th {\n",
       "        text-align: right;\n",
       "    }\n",
       "</style>\n",
       "<table border=\"1\" class=\"dataframe\">\n",
       "  <thead>\n",
       "    <tr style=\"text-align: right;\">\n",
       "      <th></th>\n",
       "      <th>dia</th>\n",
       "      <th>horario_habitual</th>\n",
       "      <th>cierre_imprevisto</th>\n",
       "      <th>abierto_imprevisto</th>\n",
       "      <th>leyenda</th>\n",
       "      <th>dia_particular</th>\n",
       "    </tr>\n",
       "  </thead>\n",
       "  <tbody>\n",
       "    <tr>\n",
       "      <th>0</th>\n",
       "      <td>lunes</td>\n",
       "      <td>7-22</td>\n",
       "      <td>NaN</td>\n",
       "      <td>NaN</td>\n",
       "      <td>NaN</td>\n",
       "      <td>NaN</td>\n",
       "    </tr>\n",
       "    <tr>\n",
       "      <th>1</th>\n",
       "      <td>martes</td>\n",
       "      <td>7-22</td>\n",
       "      <td>NaN</td>\n",
       "      <td>NaN</td>\n",
       "      <td>NaN</td>\n",
       "      <td>NaN</td>\n",
       "    </tr>\n",
       "    <tr>\n",
       "      <th>2</th>\n",
       "      <td>miercoles</td>\n",
       "      <td>7-22</td>\n",
       "      <td>NaN</td>\n",
       "      <td>NaN</td>\n",
       "      <td>NaN</td>\n",
       "      <td>NaN</td>\n",
       "    </tr>\n",
       "    <tr>\n",
       "      <th>3</th>\n",
       "      <td>jueves</td>\n",
       "      <td>7-22</td>\n",
       "      <td>NaN</td>\n",
       "      <td>NaN</td>\n",
       "      <td>NaN</td>\n",
       "      <td>NaN</td>\n",
       "    </tr>\n",
       "    <tr>\n",
       "      <th>4</th>\n",
       "      <td>viernes</td>\n",
       "      <td>7-22</td>\n",
       "      <td>NaN</td>\n",
       "      <td>NaN</td>\n",
       "      <td>NaN</td>\n",
       "      <td>NaN</td>\n",
       "    </tr>\n",
       "    <tr>\n",
       "      <th>5</th>\n",
       "      <td>sabado</td>\n",
       "      <td>7-22</td>\n",
       "      <td>NaN</td>\n",
       "      <td>NaN</td>\n",
       "      <td>NaN</td>\n",
       "      <td>NaN</td>\n",
       "    </tr>\n",
       "    <tr>\n",
       "      <th>6</th>\n",
       "      <td>domingo</td>\n",
       "      <td>7-22</td>\n",
       "      <td>NaN</td>\n",
       "      <td>NaN</td>\n",
       "      <td>NaN</td>\n",
       "      <td>NaN</td>\n",
       "    </tr>\n",
       "  </tbody>\n",
       "</table>\n",
       "</div>"
      ],
      "text/plain": [
       "         dia horario_habitual  cierre_imprevisto  abierto_imprevisto  leyenda  \\\n",
       "0      lunes             7-22                NaN                 NaN      NaN   \n",
       "1     martes             7-22                NaN                 NaN      NaN   \n",
       "2  miercoles             7-22                NaN                 NaN      NaN   \n",
       "3     jueves             7-22                NaN                 NaN      NaN   \n",
       "4    viernes             7-22                NaN                 NaN      NaN   \n",
       "5     sabado             7-22                NaN                 NaN      NaN   \n",
       "6    domingo             7-22                NaN                 NaN      NaN   \n",
       "\n",
       "   dia_particular  \n",
       "0             NaN  \n",
       "1             NaN  \n",
       "2             NaN  \n",
       "3             NaN  \n",
       "4             NaN  \n",
       "5             NaN  \n",
       "6             NaN  "
      ]
     },
     "execution_count": 45,
     "metadata": {},
     "output_type": "execute_result"
    }
   ],
   "source": [
    "horarios"
   ]
  },
  {
   "cell_type": "code",
   "execution_count": 46,
   "metadata": {},
   "outputs": [],
   "source": [
    "def fecha_actual():\n",
    "    from datetime import datetime, timedelta\n",
    "    hora_actual = datetime.now()\n",
    "    fecha_actual = hora_actual.strftime(\"%Y-%m-%d\")\n",
    "    dia_actual = fecha_actual.split('-')[2]\n",
    "    mes_actual = fecha_actual.split('-')[1]\n",
    "    return dia_actual, mes_actual"
   ]
  },
  {
   "cell_type": "code",
   "execution_count": 47,
   "metadata": {},
   "outputs": [
    {
     "data": {
      "text/html": [
       "<div>\n",
       "<style scoped>\n",
       "    .dataframe tbody tr th:only-of-type {\n",
       "        vertical-align: middle;\n",
       "    }\n",
       "\n",
       "    .dataframe tbody tr th {\n",
       "        vertical-align: top;\n",
       "    }\n",
       "\n",
       "    .dataframe thead th {\n",
       "        text-align: right;\n",
       "    }\n",
       "</style>\n",
       "<table border=\"1\" class=\"dataframe\">\n",
       "  <thead>\n",
       "    <tr style=\"text-align: right;\">\n",
       "      <th></th>\n",
       "      <th>dia</th>\n",
       "      <th>horario_habitual</th>\n",
       "      <th>cierre_imprevisto</th>\n",
       "      <th>abierto_imprevisto</th>\n",
       "      <th>leyenda</th>\n",
       "      <th>dia_particular</th>\n",
       "    </tr>\n",
       "  </thead>\n",
       "  <tbody>\n",
       "    <tr>\n",
       "      <th>0</th>\n",
       "      <td>lunes</td>\n",
       "      <td>7-22</td>\n",
       "      <td>NaN</td>\n",
       "      <td>NaN</td>\n",
       "      <td>NaN</td>\n",
       "      <td>NaN</td>\n",
       "    </tr>\n",
       "    <tr>\n",
       "      <th>1</th>\n",
       "      <td>martes</td>\n",
       "      <td>7-22</td>\n",
       "      <td>NaN</td>\n",
       "      <td>NaN</td>\n",
       "      <td>NaN</td>\n",
       "      <td>NaN</td>\n",
       "    </tr>\n",
       "    <tr>\n",
       "      <th>2</th>\n",
       "      <td>miercoles</td>\n",
       "      <td>7-22</td>\n",
       "      <td>NaN</td>\n",
       "      <td>NaN</td>\n",
       "      <td>NaN</td>\n",
       "      <td>NaN</td>\n",
       "    </tr>\n",
       "    <tr>\n",
       "      <th>3</th>\n",
       "      <td>jueves</td>\n",
       "      <td>7-22</td>\n",
       "      <td>NaN</td>\n",
       "      <td>NaN</td>\n",
       "      <td>NaN</td>\n",
       "      <td>NaN</td>\n",
       "    </tr>\n",
       "    <tr>\n",
       "      <th>4</th>\n",
       "      <td>viernes</td>\n",
       "      <td>7-22</td>\n",
       "      <td>NaN</td>\n",
       "      <td>NaN</td>\n",
       "      <td>NaN</td>\n",
       "      <td>NaN</td>\n",
       "    </tr>\n",
       "    <tr>\n",
       "      <th>5</th>\n",
       "      <td>sabado</td>\n",
       "      <td>7-22</td>\n",
       "      <td>NaN</td>\n",
       "      <td>NaN</td>\n",
       "      <td>NaN</td>\n",
       "      <td>NaN</td>\n",
       "    </tr>\n",
       "    <tr>\n",
       "      <th>6</th>\n",
       "      <td>domingo</td>\n",
       "      <td>7-22</td>\n",
       "      <td>NaN</td>\n",
       "      <td>NaN</td>\n",
       "      <td>NaN</td>\n",
       "      <td>NaN</td>\n",
       "    </tr>\n",
       "  </tbody>\n",
       "</table>\n",
       "</div>"
      ],
      "text/plain": [
       "         dia horario_habitual  cierre_imprevisto  abierto_imprevisto  leyenda  \\\n",
       "0      lunes             7-22                NaN                 NaN      NaN   \n",
       "1     martes             7-22                NaN                 NaN      NaN   \n",
       "2  miercoles             7-22                NaN                 NaN      NaN   \n",
       "3     jueves             7-22                NaN                 NaN      NaN   \n",
       "4    viernes             7-22                NaN                 NaN      NaN   \n",
       "5     sabado             7-22                NaN                 NaN      NaN   \n",
       "6    domingo             7-22                NaN                 NaN      NaN   \n",
       "\n",
       "   dia_particular  \n",
       "0             NaN  \n",
       "1             NaN  \n",
       "2             NaN  \n",
       "3             NaN  \n",
       "4             NaN  \n",
       "5             NaN  \n",
       "6             NaN  "
      ]
     },
     "execution_count": 47,
     "metadata": {},
     "output_type": "execute_result"
    }
   ],
   "source": [
    "horarios"
   ]
  },
  {
   "cell_type": "code",
   "execution_count": null,
   "metadata": {},
   "outputs": [],
   "source": []
  },
  {
   "cell_type": "code",
   "execution_count": null,
   "metadata": {},
   "outputs": [],
   "source": []
  },
  {
   "cell_type": "code",
   "execution_count": null,
   "metadata": {},
   "outputs": [],
   "source": []
  },
  {
   "cell_type": "code",
   "execution_count": 261,
   "metadata": {},
   "outputs": [],
   "source": [
    "horarios = pd.read_csv('horarios.csv')"
   ]
  },
  {
   "cell_type": "code",
   "execution_count": 262,
   "metadata": {},
   "outputs": [
    {
     "data": {
      "text/html": [
       "<div>\n",
       "<style scoped>\n",
       "    .dataframe tbody tr th:only-of-type {\n",
       "        vertical-align: middle;\n",
       "    }\n",
       "\n",
       "    .dataframe tbody tr th {\n",
       "        vertical-align: top;\n",
       "    }\n",
       "\n",
       "    .dataframe thead th {\n",
       "        text-align: right;\n",
       "    }\n",
       "</style>\n",
       "<table border=\"1\" class=\"dataframe\">\n",
       "  <thead>\n",
       "    <tr style=\"text-align: right;\">\n",
       "      <th></th>\n",
       "      <th>dia</th>\n",
       "      <th>horario_habitual</th>\n",
       "    </tr>\n",
       "  </thead>\n",
       "  <tbody>\n",
       "    <tr>\n",
       "      <th>0</th>\n",
       "      <td>lunes</td>\n",
       "      <td>6am-2pm</td>\n",
       "    </tr>\n",
       "    <tr>\n",
       "      <th>1</th>\n",
       "      <td>martes</td>\n",
       "      <td>6am-2pm</td>\n",
       "    </tr>\n",
       "    <tr>\n",
       "      <th>2</th>\n",
       "      <td>miercoles</td>\n",
       "      <td>6am-2pm</td>\n",
       "    </tr>\n",
       "    <tr>\n",
       "      <th>3</th>\n",
       "      <td>jueves</td>\n",
       "      <td>6am-2pm</td>\n",
       "    </tr>\n",
       "    <tr>\n",
       "      <th>4</th>\n",
       "      <td>viernes</td>\n",
       "      <td>6am-2pm</td>\n",
       "    </tr>\n",
       "    <tr>\n",
       "      <th>5</th>\n",
       "      <td>sabado</td>\n",
       "      <td>9am-11am</td>\n",
       "    </tr>\n",
       "    <tr>\n",
       "      <th>6</th>\n",
       "      <td>domingo</td>\n",
       "      <td>SIN SERVICIO</td>\n",
       "    </tr>\n",
       "  </tbody>\n",
       "</table>\n",
       "</div>"
      ],
      "text/plain": [
       "         dia horario_habitual\n",
       "0      lunes          6am-2pm\n",
       "1     martes          6am-2pm\n",
       "2  miercoles          6am-2pm\n",
       "3     jueves          6am-2pm\n",
       "4    viernes          6am-2pm\n",
       "5     sabado         9am-11am\n",
       "6    domingo     SIN SERVICIO"
      ]
     },
     "execution_count": 262,
     "metadata": {},
     "output_type": "execute_result"
    }
   ],
   "source": [
    "horarios"
   ]
  },
  {
   "cell_type": "code",
   "execution_count": 276,
   "metadata": {},
   "outputs": [],
   "source": [
    "horario_general = dict(zip(horarios.dia, horarios.horario_habitual))"
   ]
  },
  {
   "cell_type": "code",
   "execution_count": 277,
   "metadata": {},
   "outputs": [
    {
     "data": {
      "text/plain": [
       "{'lunes': '6am-2pm',\n",
       " 'martes': '6am-2pm',\n",
       " 'miercoles': '6am-2pm',\n",
       " 'jueves': '6am-2pm',\n",
       " 'viernes': '6am-2pm',\n",
       " 'sabado': '9am-11am',\n",
       " 'domingo': 'SIN SERVICIO'}"
      ]
     },
     "execution_count": 277,
     "metadata": {},
     "output_type": "execute_result"
    }
   ],
   "source": [
    "horario_general"
   ]
  },
  {
   "cell_type": "code",
   "execution_count": 281,
   "metadata": {},
   "outputs": [],
   "source": [
    "def resumir_horarios(horarios):\n",
    "    # Convertir el diccionario en una lista de pares ordenada\n",
    "    dias_ordenados = list(horarios.items())\n",
    "\n",
    "    resumen = []\n",
    "    inicio = dias_ordenados[0][0]\n",
    "    anterior_horario = dias_ordenados[0][1]\n",
    "\n",
    "    for i in range(1, len(dias_ordenados)):\n",
    "        dia, horario = dias_ordenados[i]\n",
    "        \n",
    "        # Si el horario cambia, almacenamos el rango anterior\n",
    "        if horario != anterior_horario:\n",
    "            if inicio == dias_ordenados[i-1][0]:  # Si solo hay un día\n",
    "                resumen.append(f\"{inicio} de {anterior_horario}\")\n",
    "            else:\n",
    "                resumen.append(f\"{inicio} a {dias_ordenados[i-1][0]} de {anterior_horario}\")\n",
    "            \n",
    "            # Actualizamos el nuevo rango\n",
    "            inicio = dia\n",
    "        \n",
    "        anterior_horario = horario\n",
    "    \n",
    "    # Agregar el último rango\n",
    "    if inicio == dias_ordenados[-1][0]:\n",
    "        resumen.append(f\"{inicio} de {anterior_horario}\")\n",
    "    else:\n",
    "        resumen.append(f\"{inicio} a {dias_ordenados[-1][0]} de {anterior_horario}\")\n",
    "\n",
    "    return resumen\n"
   ]
  },
  {
   "cell_type": "code",
   "execution_count": 286,
   "metadata": {},
   "outputs": [
    {
     "name": "stdout",
     "output_type": "stream",
     "text": [
      "lunes a viernes de 6am-10pm\n",
      "sabado de 9am-6pm\n",
      "domingo de SIN SERVICIO\n"
     ]
    }
   ],
   "source": [
    "\n",
    "# Ejemplo de uso\n",
    "horarios = {\n",
    "    'lunes': '6am-10pm',\n",
    "    'martes': '6am-10pm',\n",
    "    'miercoles': '6am-10pm',\n",
    "    'jueves': '6am-10pm',\n",
    "    'viernes': '6am-10pm',\n",
    "    'sabado': '9am-6pm',\n",
    "    'domingo': 'SIN SERVICIO'\n",
    "}\n",
    "\n",
    "resumen = resumir_horarios(horarios)\n",
    "for r in resumen:\n",
    "    print(r)"
   ]
  },
  {
   "cell_type": "code",
   "execution_count": 274,
   "metadata": {},
   "outputs": [],
   "source": [
    "def mensaje_horario(df):\n",
    "    dias_semana = {\n",
    "        'lunes': 1,\n",
    "        'martes': 2,\n",
    "        'miercoles': 3,\n",
    "        'jueves': 4,\n",
    "        'viernes': 5,\n",
    "        'sabado': 6,\n",
    "        'domingo': 7}\n",
    "    # porcentaje_nulos = ((df.isnull().sum() / len(df)) * 100).to_dict()\n",
    "    # list_nulos = list(porcentaje_nulos.values())[2:]\n",
    "    horario_hab = df['horario_habitual']\n",
    "    horario_general = dict(zip(df.dia, df.horario_habitual))\n",
    "\n",
    "    # vector = [i for i in range(6, 24)]\n",
    "    # hora = ['am' if hour < 12 else 'pm' for hour in vector]\n",
    "    # tz = dict(zip(vector, hora))\n",
    "\n",
    "\n",
    "    response = \"Horario Habitual:\\n\"\n",
    "    \n",
    "    #CASO 1\n",
    "    if  (len(set(horario_hab)) == 1):\n",
    "\n",
    "        horario = horario_hab.unique()[0]\n",
    "    \n",
    "        response += f\"Lunes-Viernes: {horario}\\n\"\n",
    "        response += f\"Sabado y Domingo: {horario}\"\n",
    "\n",
    "    elif (len(set(horario_hab)) != 1):\n",
    "        dicc={}\n",
    "        horarios = list(set(horario_hab))\n",
    "        for horario in horarios:\n",
    "            aux = list(df[df['horario_habitual'] == horario]['dia'])\n",
    "            if len(aux) == 1:\n",
    "                aux = aux[0]\n",
    "                response += f\"{aux}: {horario_general[aux]}\\n\"\n",
    "                dicc[dias_semana[aux]] = horario_general[aux]\n",
    "            else:\n",
    "                for dia in aux:\n",
    "                    response += f\"{dia}: {horario_general[dia]}\\n\"\n",
    "                    dicc[dias_semana[dia]] = horario_general[dia]\n",
    "\n",
    "    horarios_ordenados = dict(sorted(dicc.items()))\n",
    "\n",
    "    return {dias_semana[dia]}\n",
    "\n",
    "        # for key, value in dias_semana.items():\n",
    "\n",
    "\n",
    "\n",
    "\n",
    "\n",
    "\n",
    "                \n",
    "            \n",
    "        \n",
    "\n",
    "    print(response)\n",
    "        "
   ]
  },
  {
   "cell_type": "code",
   "execution_count": 275,
   "metadata": {},
   "outputs": [
    {
     "data": {
      "text/plain": [
       "{1: '6am-2pm',\n",
       " 2: '6am-2pm',\n",
       " 3: '6am-2pm',\n",
       " 4: '6am-2pm',\n",
       " 5: '6am-2pm',\n",
       " 6: '9am-11am',\n",
       " 7: 'SIN SERVICIO'}"
      ]
     },
     "execution_count": 275,
     "metadata": {},
     "output_type": "execute_result"
    }
   ],
   "source": [
    "mensaje_horario(horarios)"
   ]
  },
  {
   "cell_type": "code",
   "execution_count": 160,
   "metadata": {},
   "outputs": [],
   "source": [
    "response1 = \"Por horarios de navidad de [Lunes a Miercoles] abriremos de 7am-11pm\"\n",
    "response2 =  \"[Jueves y Viernes] de 8am-11pm\"\n",
    "response3 = \"[Sabados y Domingos] de 9am-5pm\"\n",
    "response4 = '[Lunes], [Martes] y [Domingos] de 4am-9pm'"
   ]
  },
  {
   "cell_type": "code",
   "execution_count": 168,
   "metadata": {},
   "outputs": [],
   "source": [
    "claves = {'Lunes a Miercoles': [1,2,3],## 3 EN 3\n",
    "          'Martes a Jueves': [2,3,4],\n",
    "          'Miercoles a Viernes': [3,4,5],\n",
    "          'Jueves a Sabado': [4,5,6],\n",
    "          ' Viernes a Domingo': [5,6,7],\n",
    "          'Lunes a Jueves': [1,2,3,4],   ## 4 EN 4\n",
    "          'Martes a Viernes': [2,3,4,5],\n",
    "          'Miercoles a Sabado': [3,4,5,6],\n",
    "          'Jueves a Domingo': [4,5,6,7],\n",
    "          'Lunes a Viernes': [1,2,3,4,5], ## 5 EN 5\n",
    "          'Martes a Sabado': [2,3,4,5,6],\n",
    "          'Miercoles a Domingo': [3,4,5,6,7],\n",
    "          'Lunes a Sabado': [1,2,3,4,5,6], ## 6 en 6\n",
    "          'Martes a Domingo': [2,3,4,5,6,7],\n",
    "          'Lunes a Domingo': [1,2,3,4,5,6,7], ## 7 EN 7\n",
    "          'Lunes y Martes': [1,2], ## 2 EN 2\n",
    "          'Martes y Miercoles': [2,3],\n",
    "          'Miercoles y Jueves': [3,4],\n",
    "          'Jueves y Viernes': [4,5],\n",
    "          'Viernes y Sabado': [5,6],\n",
    "          'Sabado y Domingo': [6,7],\n",
    "          'Lunes': [1],  ## 1 EN 1\n",
    "          'Martes': [2],\n",
    "          'Miercoles': [3],\n",
    "          'Jueves': [4],\n",
    "          'Viernes': [5],\n",
    "          'Sabado': [6],\n",
    "          'Domingo': [7],\n",
    "          'Sabados': [6],\n",
    "          'Domingos': [7]}"
   ]
  },
  {
   "cell_type": "code",
   "execution_count": 156,
   "metadata": {},
   "outputs": [],
   "source": [
    "import re\n",
    "# Función para extraer clave\n",
    "def extraer_clave(texto):\n",
    "    for clave in claves.keys():\n",
    "        if clave in texto:\n",
    "            return clave\n",
    "    return None\n",
    "\n",
    "# Función para extraer horarios usando expresiones regulares\n",
    "def extraer_horario(texto):\n",
    "    # Buscar patrones de horario del tipo \"7am-11pm\"\n",
    "    horario_pattern = r'(\\d{1,2}(?:am|pm))-(\\d{1,2}(?:am|pm))'\n",
    "    match = re.search(horario_pattern, texto)\n",
    "    if match:\n",
    "        return match.group(0)  # Devolver el patrón completo \"7am-11pm\"\n",
    "    return None"
   ]
  },
  {
   "cell_type": "code",
   "execution_count": 161,
   "metadata": {},
   "outputs": [
    {
     "name": "stdout",
     "output_type": "stream",
     "text": [
      "Clave: Lunes a Miercoles, Horario: 7am-11pm\n",
      "Clave: Jueves y Viernes, Horario: 8am-11pm\n",
      "Clave: Sabado, Horario: 9am-5pm\n",
      "Clave: Lunes, Horario: 4am-9pm\n"
     ]
    }
   ],
   "source": [
    "# Aplicar las funciones a los strings\n",
    "for response in [response1, response2, response3, response4]:\n",
    "    clave = extraer_clave(response)\n",
    "    horario = extraer_horario(response)\n",
    "    print(f\"Clave: {clave}, Horario: {horario}\")"
   ]
  },
  {
   "cell_type": "code",
   "execution_count": 178,
   "metadata": {},
   "outputs": [],
   "source": [
    "import re\n",
    "\n",
    "\n",
    "# Usar re.findall para extraer todas las coincidencias\n",
    "\n",
    "def extraer_dias(respuesta):\n",
    "    pattern = r'\\[(.*?)\\]'\n",
    "    matches = re.findall(pattern, respuesta)\n",
    "    dicc={}\n",
    "    if len(matches) == 1:\n",
    "        dicc[matches[0]] = claves[matches[0]]\n",
    "    else:\n",
    "        for match in matches:\n",
    "            dicc[match] = claves[match]\n",
    "\n",
    "    return dicc"
   ]
  },
  {
   "cell_type": "code",
   "execution_count": null,
   "metadata": {},
   "outputs": [],
   "source": [
    "response1 = \"Por horarios de navidad de [Lunes 16 al Miercoles 26] abriremos de 7am-11pm\"\n",
    "response2 = \"[Jueves 14 y Viernes 15] de 8am-11pm\"\n",
    "response3 = \"[Sabado 22 y Domingo 23 ] de 9am-5pm\"\n",
    "response4 = \"[Lunes 1], [Martes 3] y [Domingo 8] de 4am-9pm\"\n"
   ]
  },
  {
   "cell_type": "code",
   "execution_count": 181,
   "metadata": {},
   "outputs": [],
   "source": [
    "response5 = \"Por horarios de navidad de [Lunes a Miercoles] abriremos de 7am-11pm\"\n",
    "response5 += \"[Jueves a Sabado] de 9am-8pm\"\n",
    "response5 += \"[Domingo] de 9am-5pm\""
   ]
  },
  {
   "cell_type": "code",
   "execution_count": 182,
   "metadata": {},
   "outputs": [
    {
     "data": {
      "text/plain": [
       "'Por horarios de navidad de [Lunes a Miercoles] abriremos de 7am-11pm[Jueves a Sabado] de 9am-8pm[Domingo] de 9am-5pm'"
      ]
     },
     "execution_count": 182,
     "metadata": {},
     "output_type": "execute_result"
    }
   ],
   "source": [
    "response5"
   ]
  },
  {
   "cell_type": "code",
   "execution_count": 183,
   "metadata": {},
   "outputs": [
    {
     "name": "stdout",
     "output_type": "stream",
     "text": [
      "{'Lunes a Miercoles': [1, 2, 3], 'Jueves a Sabado': [4, 5, 6], 'Domingo': [7]}\n"
     ]
    }
   ],
   "source": [
    "u = extraer_dias(response5)\n",
    "print(u)"
   ]
  },
  {
   "cell_type": "code",
   "execution_count": 184,
   "metadata": {},
   "outputs": [],
   "source": [
    "def fecha_actual():\n",
    "    from datetime import datetime, timedelta\n",
    "    hora_actual = datetime.now()\n",
    "    fecha_actual = hora_actual.strftime(\"%Y-%m-%d\")\n",
    "    dia_actual = fecha_actual.split('-')[2]\n",
    "    mes_actual = fecha_actual.split('-')[1]\n",
    "    return dia_actual, mes_actual"
   ]
  },
  {
   "cell_type": "code",
   "execution_count": 185,
   "metadata": {},
   "outputs": [],
   "source": [
    "dia_actual, mes_actual = fecha_actual()"
   ]
  },
  {
   "cell_type": "code",
   "execution_count": 186,
   "metadata": {},
   "outputs": [
    {
     "data": {
      "text/plain": [
       "'13'"
      ]
     },
     "execution_count": 186,
     "metadata": {},
     "output_type": "execute_result"
    }
   ],
   "source": [
    "dia_actual"
   ]
  },
  {
   "cell_type": "code",
   "execution_count": 187,
   "metadata": {},
   "outputs": [
    {
     "data": {
      "text/plain": [
       "'10'"
      ]
     },
     "execution_count": 187,
     "metadata": {},
     "output_type": "execute_result"
    }
   ],
   "source": [
    "mes_actual"
   ]
  },
  {
   "cell_type": "code",
   "execution_count": 190,
   "metadata": {},
   "outputs": [
    {
     "name": "stdout",
     "output_type": "stream",
     "text": [
      "Response 1: {'Monday 14': '7am-11pm', 'Tuesday 15': '7am-11pm', 'Wednesday 16': '7am-11pm', 'Thursday 17': '7am-11pm', 'Friday 18': '7am-11pm'}\n",
      "Response 2: {'Sabado 19': '8am-11pm', 'Domingo 20': '8am-11pm'}\n",
      "Response 3: {'Lunes 21': '9am-5pm'}\n",
      "Response 4: {'Martes 22': '4am-9pm', 'Jueves 24': '4am-9pm', 'Sabado 26': '4am-9pm'}\n"
     ]
    }
   ],
   "source": [
    "import re\n",
    "from datetime import datetime, timedelta\n",
    "\n",
    "def expand_days(response):\n",
    "    # Patrón para extraer lo que está entre corchetes\n",
    "    pattern = r'\\[(.*?)\\]'\n",
    "    matches = re.findall(pattern, response)\n",
    "    \n",
    "    # Patrón para extraer fechas\n",
    "    date_pattern = r'(\\w+)\\s(\\d+)'  # Ej: Lunes 16\n",
    "    \n",
    "    # Diccionario para almacenar los resultados\n",
    "    days_schedule = {}\n",
    "    \n",
    "    # Horarios de apertura según la respuesta\n",
    "    horario = re.search(r'(\\d{1,2}am-\\d{1,2}pm)', response).group(0)\n",
    "    \n",
    "    for match in matches:\n",
    "        dates = re.findall(date_pattern, match)\n",
    "        \n",
    "        # Si es un rango (del día X al día Y)\n",
    "        if \"al\" in match:\n",
    "            # Extraer las fechas de inicio y fin\n",
    "            start_day, start_date = dates[0]\n",
    "            end_day, end_date = dates[1]\n",
    "            start_date = int(start_date)\n",
    "            end_date = int(end_date)\n",
    "            \n",
    "            # Crear la fecha de inicio\n",
    "            current_date = datetime(datetime.now().year, datetime.now().month, start_date)\n",
    "            \n",
    "            # Agregar los días dentro del rango\n",
    "            for i in range(start_date, end_date + 1):\n",
    "                day_str = current_date.strftime('%A %d')  # Nombre del día y número\n",
    "                days_schedule[day_str] = horario\n",
    "                current_date += timedelta(days=1)\n",
    "        \n",
    "        # Si son días individuales\n",
    "        else:\n",
    "            for day, date in dates:\n",
    "                day_str = f\"{day} {date}\"\n",
    "                days_schedule[day_str] = horario\n",
    "    \n",
    "    return days_schedule\n",
    "\n",
    "# Ejemplo de uso\n",
    "response1 = \"Por horarios de navidad del [Lunes 14 al Viernes 18] abriremos de 7am-11pm\"\n",
    "response2 = \"[Sabado 19 y Domingo 20] de 8am-11pm\"\n",
    "response3 = \"[Lunes 21] de 9am-5pm\"\n",
    "response4 = \"[Martes 22], [Jueves 24] y [Sabado 26] de 4am-9pm\"\n",
    "\n",
    "# Expandir los días y asociarles horarios\n",
    "expanded_response1 = expand_days(response1)\n",
    "expanded_response2 = expand_days(response2)\n",
    "expanded_response3 = expand_days(response3)\n",
    "expanded_response4 = expand_days(response4)\n",
    "\n",
    "# Mostrar resultados\n",
    "print(\"Response 1:\", expanded_response1)\n",
    "print(\"Response 2:\", expanded_response2)\n",
    "print(\"Response 3:\", expanded_response3)\n",
    "print(\"Response 4:\", expanded_response4)\n"
   ]
  },
  {
   "cell_type": "code",
   "execution_count": 199,
   "metadata": {},
   "outputs": [],
   "source": [
    "def fecha_actual():\n",
    "    from datetime import datetime, timedelta\n",
    "    hora_actual = datetime.now()\n",
    "    fecha_actual = hora_actual.strftime(\"%Y-%m-%d\")\n",
    "    dia_actual = int(fecha_actual.split('-')[2])\n",
    "    mes_actual = int(fecha_actual.split('-')[1])\n",
    "\n",
    "    print(f\"dia actual: {dia_actual}\")\n",
    "    print(f\"mes actual: {mes_actual}\")"
   ]
  },
  {
   "cell_type": "code",
   "execution_count": 294,
   "metadata": {},
   "outputs": [],
   "source": [
    "def fecha_actual():\n",
    "    from datetime import datetime\n",
    "    \n",
    "    hora_actual = datetime.now()\n",
    "    hora_actual2 = hora_actual.strftime(\"%H:%M\")\n",
    "\n",
    "    dicc = {\n",
    "        'Monday': 'lunes',\n",
    "        'Tuesday': 'martes',\n",
    "        'Wednesday': 'miércoles',\n",
    "        'Thursday': 'jueves',\n",
    "        'Friday': 'viernes',\n",
    "        'Saturday': 'sábado',\n",
    "        'Sunday': 'domingo'}\n",
    "    \n",
    "    # Obtener la fecha en formato Y-M-D\n",
    "    fecha_actual = hora_actual.strftime(\"%Y-%m-%d\")\n",
    "    dia_actual = int(fecha_actual.split('-')[2])\n",
    "    mes_actual = int(fecha_actual.split('-')[1])\n",
    "    \n",
    "    # Obtener el nombre del día en español (o según la configuración regional)\n",
    "    nombre_dia_actual = hora_actual.strftime(\"%A\")  # Devuelve el día en nombre\n",
    "\n",
    "    nombre_dia = dicc[nombre_dia_actual]\n",
    "\n",
    "    return dia_actual, nombre_dia, mes_actual, hora_actual2\n",
    "    \n"
   ]
  },
  {
   "cell_type": "code",
   "execution_count": 296,
   "metadata": {},
   "outputs": [
    {
     "name": "stdout",
     "output_type": "stream",
     "text": [
      "14\n",
      "lunes\n",
      "10\n",
      "16:33\n"
     ]
    }
   ],
   "source": [
    "dia_actual, nombre_dia, mes_actual, hora_actual = fecha_actual()\n",
    "print(dia_actual)\n",
    "print(nombre_dia)\n",
    "print(mes_actual)\n",
    "print(hora_actual)"
   ]
  },
  {
   "cell_type": "code",
   "execution_count": 299,
   "metadata": {},
   "outputs": [
    {
     "data": {
      "text/plain": [
       "2"
      ]
     },
     "execution_count": 299,
     "metadata": {},
     "output_type": "execute_result"
    }
   ],
   "source": [
    "u = {1: 'Hola', 2:'Hi'}\n",
    "max(u.keys())"
   ]
  },
  {
   "cell_type": "code",
   "execution_count": null,
   "metadata": {},
   "outputs": [],
   "source": []
  },
  {
   "cell_type": "code",
   "execution_count": null,
   "metadata": {},
   "outputs": [],
   "source": []
  },
  {
   "cell_type": "code",
   "execution_count": 194,
   "metadata": {},
   "outputs": [
    {
     "name": "stdout",
     "output_type": "stream",
     "text": [
      "Response 1: {16: '7am-11pm', 17: '7am-11pm', 18: '7am-11pm', 19: '7am-11pm', 20: '7am-11pm', 21: '7am-11pm', 22: '7am-11pm', 23: '7am-11pm', 24: '7am-11pm', 25: '7am-11pm', 26: '7am-11pm'}\n",
      "Response 2: {14: '8am-11pm', 15: '8am-11pm'}\n",
      "Response 3: {22: '9am-5pm', 23: '9am-5pm'}\n",
      "Response 4: {1: '4am-9pm', 3: '4am-9pm', 8: '4am-9pm'}\n"
     ]
    }
   ],
   "source": [
    "import re\n",
    "from datetime import datetime, timedelta\n",
    "\n",
    "def expand_days(response):\n",
    "    # Patrón para extraer lo que está entre corchetes\n",
    "    pattern = r'\\[(.*?)\\]'\n",
    "    matches = re.findall(pattern, response)\n",
    "    \n",
    "    # Patrón para extraer fechas\n",
    "    date_pattern = r'\\w+\\s(\\d+)'  # Extraer solo el número del día\n",
    "    \n",
    "    # Diccionario para almacenar los resultados\n",
    "    days_schedule = {}\n",
    "    \n",
    "    # Horarios de apertura según la respuesta\n",
    "    horario = re.search(r'(\\d{1,2}am-\\d{1,2}pm)', response).group(0)\n",
    "    \n",
    "    for match in matches:\n",
    "        dates = re.findall(date_pattern, match)\n",
    "        \n",
    "        # Si es un rango (del día X al día Y)\n",
    "        if \"al\" in match:\n",
    "            # Extraer las fechas de inicio y fin\n",
    "            start_date = int(dates[0])\n",
    "            end_date = int(dates[1])\n",
    "            \n",
    "            # Agregar los días dentro del rango\n",
    "            for day in range(start_date, end_date + 1):\n",
    "                days_schedule[day] = horario\n",
    "        \n",
    "        # Si son días individuales\n",
    "        else:\n",
    "            for date in dates:\n",
    "                day = int(date)\n",
    "                days_schedule[day] = horario\n",
    "    \n",
    "    return days_schedule\n",
    "\n",
    "# Ejemplo de uso\n",
    "response1 = \"Por horarios de navidad de [Lunes 16 al Miercoles 26] abriremos de 7am-11pm\"\n",
    "response2 = \"[Jueves 14 y Viernes 15] de 8am-11pm\"\n",
    "response3 = \"[Sabado 22 y Domingo 23] de 9am-5pm\"\n",
    "response4 = \"[Lunes 1], [Martes 3] y [Domingo 8] de 4am-9pm\"\n",
    "\n",
    "# Expandir los días y asociarles horarios\n",
    "expanded_response1 = expand_days(response1)\n",
    "expanded_response2 = expand_days(response2)\n",
    "expanded_response3 = expand_days(response3)\n",
    "expanded_response4 = expand_days(response4)\n",
    "\n",
    "# Mostrar resultados\n",
    "print(\"Response 1:\", expanded_response1)\n",
    "print(\"Response 2:\", expanded_response2)\n",
    "print(\"Response 3:\", expanded_response3)\n",
    "print(\"Response 4:\", expanded_response4)"
   ]
  },
  {
   "cell_type": "code",
   "execution_count": 196,
   "metadata": {},
   "outputs": [
    {
     "data": {
      "text/plain": [
       "dict_keys([16, 17, 18, 19, 20, 21, 22, 23, 24, 25, 26])"
      ]
     },
     "execution_count": 196,
     "metadata": {},
     "output_type": "execute_result"
    }
   ],
   "source": [
    "expanded_response1.keys()"
   ]
  },
  {
   "cell_type": "code",
   "execution_count": null,
   "metadata": {},
   "outputs": [],
   "source": [
    "'Horario Habitual'"
   ]
  }
 ],
 "metadata": {
  "kernelspec": {
   "display_name": "Python 3",
   "language": "python",
   "name": "python3"
  },
  "language_info": {
   "codemirror_mode": {
    "name": "ipython",
    "version": 3
   },
   "file_extension": ".py",
   "mimetype": "text/x-python",
   "name": "python",
   "nbconvert_exporter": "python",
   "pygments_lexer": "ipython3",
   "version": "3.9.13"
  }
 },
 "nbformat": 4,
 "nbformat_minor": 2
}
